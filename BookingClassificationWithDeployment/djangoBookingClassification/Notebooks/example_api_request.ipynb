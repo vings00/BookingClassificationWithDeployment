{
 "cells": [
  {
   "cell_type": "code",
   "execution_count": 10,
   "id": "b968c327",
   "metadata": {},
   "outputs": [],
   "source": [
    "import pandas as pd\n",
    "import requests"
   ]
  },
  {
   "cell_type": "code",
   "execution_count": 6,
   "id": "7a9ccf3f",
   "metadata": {},
   "outputs": [],
   "source": [
    "df = pd.read_csv('train.csv')"
   ]
  },
  {
   "cell_type": "code",
   "execution_count": 7,
   "id": "ea40ea51",
   "metadata": {},
   "outputs": [],
   "source": [
    "data = df.sample(1).to_dict(orient=\"records\")[0]"
   ]
  },
  {
   "cell_type": "code",
   "execution_count": 8,
   "id": "f2f6ca81",
   "metadata": {},
   "outputs": [
    {
     "data": {
      "text/plain": [
       "{'id': 34082,\n",
       " 'no_of_adults': 2,\n",
       " 'no_of_children': 0,\n",
       " 'no_of_weekend_nights': 1,\n",
       " 'no_of_week_nights': 1,\n",
       " 'type_of_meal_plan': 0,\n",
       " 'required_car_parking_space': 0,\n",
       " 'room_type_reserved': 0,\n",
       " 'lead_time': 107,\n",
       " 'arrival_year': 2018,\n",
       " 'arrival_month': 7,\n",
       " 'arrival_date': 10,\n",
       " 'market_segment_type': 1,\n",
       " 'repeated_guest': 0,\n",
       " 'no_of_previous_cancellations': 0,\n",
       " 'no_of_previous_bookings_not_canceled': 0,\n",
       " 'avg_price_per_room': 105.3,\n",
       " 'no_of_special_requests': 0,\n",
       " 'booking_status': 1}"
      ]
     },
     "execution_count": 8,
     "metadata": {},
     "output_type": "execute_result"
    }
   ],
   "source": [
    "data"
   ]
  },
  {
   "cell_type": "code",
   "execution_count": 9,
   "id": "fb228242",
   "metadata": {},
   "outputs": [],
   "source": [
    "data = {'id': 34082,\n",
    " 'no_of_adults': 2,\n",
    " 'no_of_children': 0,\n",
    " 'no_of_weekend_nights': 1,\n",
    " 'no_of_week_nights': 1,\n",
    " 'type_of_meal_plan': 0,\n",
    " 'required_car_parking_space': 0,\n",
    " 'room_type_reserved': 0,\n",
    " 'lead_time': 107,\n",
    " 'arrival_year': 2018,\n",
    " 'arrival_month': 7,\n",
    " 'arrival_date': 10,\n",
    " 'market_segment_type': 1,\n",
    " 'repeated_guest': 0,\n",
    " 'no_of_previous_cancellations': 0,\n",
    " 'no_of_previous_bookings_not_canceled': 0,\n",
    " 'avg_price_per_room': 105.3,\n",
    " 'no_of_special_requests': 0}"
   ]
  },
  {
   "cell_type": "code",
   "execution_count": 11,
   "id": "faa56e6c",
   "metadata": {},
   "outputs": [
    {
     "name": "stdout",
     "output_type": "stream",
     "text": [
      "Prediction: [1]\n"
     ]
    }
   ],
   "source": [
    "response = requests.post('http://127.0.0.1:8000/predict/', json=data)\n",
    "\n",
    "if response.status_code == 200:\n",
    "    prediction = response.json()['prediction']\n",
    "    print('Prediction:', prediction)\n",
    "else:\n",
    "    print('Failed to get prediction:', response.status_code)"
   ]
  },
  {
   "cell_type": "code",
   "execution_count": 12,
   "id": "c2a41735",
   "metadata": {},
   "outputs": [],
   "source": [
    "data = df.sample(1).to_dict(orient=\"records\")[0]"
   ]
  },
  {
   "cell_type": "code",
   "execution_count": 13,
   "id": "318310cb",
   "metadata": {},
   "outputs": [
    {
     "data": {
      "text/plain": [
       "{'id': 27278,\n",
       " 'no_of_adults': 3,\n",
       " 'no_of_children': 0,\n",
       " 'no_of_weekend_nights': 0,\n",
       " 'no_of_week_nights': 2,\n",
       " 'type_of_meal_plan': 0,\n",
       " 'required_car_parking_space': 0,\n",
       " 'room_type_reserved': 1,\n",
       " 'lead_time': 24,\n",
       " 'arrival_year': 2018,\n",
       " 'arrival_month': 7,\n",
       " 'arrival_date': 26,\n",
       " 'market_segment_type': 1,\n",
       " 'repeated_guest': 0,\n",
       " 'no_of_previous_cancellations': 0,\n",
       " 'no_of_previous_bookings_not_canceled': 0,\n",
       " 'avg_price_per_room': 187.0,\n",
       " 'no_of_special_requests': 2,\n",
       " 'booking_status': 0}"
      ]
     },
     "execution_count": 13,
     "metadata": {},
     "output_type": "execute_result"
    }
   ],
   "source": [
    "data"
   ]
  },
  {
   "cell_type": "code",
   "execution_count": 14,
   "id": "5d1abd72",
   "metadata": {},
   "outputs": [],
   "source": [
    "data = {'id': 27278,\n",
    " 'no_of_adults': 3,\n",
    " 'no_of_children': 0,\n",
    " 'no_of_weekend_nights': 0,\n",
    " 'no_of_week_nights': 2,\n",
    " 'type_of_meal_plan': 0,\n",
    " 'required_car_parking_space': 0,\n",
    " 'room_type_reserved': 1,\n",
    " 'lead_time': 24,\n",
    " 'arrival_year': 2018,\n",
    " 'arrival_month': 7,\n",
    " 'arrival_date': 26,\n",
    " 'market_segment_type': 1,\n",
    " 'repeated_guest': 0,\n",
    " 'no_of_previous_cancellations': 0,\n",
    " 'no_of_previous_bookings_not_canceled': 0,\n",
    " 'avg_price_per_room': 187.0,\n",
    " 'no_of_special_requests': 2}"
   ]
  },
  {
   "cell_type": "code",
   "execution_count": 15,
   "id": "4cf83f9e",
   "metadata": {},
   "outputs": [
    {
     "name": "stdout",
     "output_type": "stream",
     "text": [
      "Prediction: [0]\n"
     ]
    }
   ],
   "source": [
    "response = requests.post('http://127.0.0.1:8000/predict/', json=data)\n",
    "\n",
    "if response.status_code == 200:\n",
    "    prediction = response.json()['prediction']\n",
    "    print('Prediction:', prediction)\n",
    "else:\n",
    "    print('Failed to get prediction:', response.status_code)"
   ]
  },
  {
   "cell_type": "code",
   "execution_count": null,
   "id": "cbdf7618",
   "metadata": {},
   "outputs": [],
   "source": []
  }
 ],
 "metadata": {
  "kernelspec": {
   "display_name": "Python [conda env:root] *",
   "language": "python",
   "name": "conda-root-py"
  },
  "language_info": {
   "codemirror_mode": {
    "name": "ipython",
    "version": 3
   },
   "file_extension": ".py",
   "mimetype": "text/x-python",
   "name": "python",
   "nbconvert_exporter": "python",
   "pygments_lexer": "ipython3",
   "version": "3.11.5"
  }
 },
 "nbformat": 4,
 "nbformat_minor": 5
}
