{
 "cells": [
  {
   "cell_type": "code",
   "execution_count": 22,
   "id": "b968c327",
   "metadata": {},
   "outputs": [],
   "source": [
    "import pandas as pd"
   ]
  },
  {
   "cell_type": "code",
   "execution_count": 23,
   "id": "7a9ccf3f",
   "metadata": {},
   "outputs": [],
   "source": [
    "df = pd.read_csv('train.csv')"
   ]
  },
  {
   "cell_type": "code",
   "execution_count": 24,
   "id": "ea40ea51",
   "metadata": {},
   "outputs": [],
   "source": [
    "data = df.sample(1).to_dict(orient=\"records\")[0]"
   ]
  },
  {
   "cell_type": "code",
   "execution_count": 25,
   "id": "f2f6ca81",
   "metadata": {},
   "outputs": [
    {
     "data": {
      "text/plain": [
       "{'id': 35601,\n",
       " 'no_of_adults': 2,\n",
       " 'no_of_children': 0,\n",
       " 'no_of_weekend_nights': 1,\n",
       " 'no_of_week_nights': 3,\n",
       " 'type_of_meal_plan': 0,\n",
       " 'required_car_parking_space': 0,\n",
       " 'room_type_reserved': 0,\n",
       " 'lead_time': 141,\n",
       " 'arrival_year': 2018,\n",
       " 'arrival_month': 7,\n",
       " 'arrival_date': 5,\n",
       " 'market_segment_type': 1,\n",
       " 'repeated_guest': 0,\n",
       " 'no_of_previous_cancellations': 0,\n",
       " 'no_of_previous_bookings_not_canceled': 0,\n",
       " 'avg_price_per_room': 105.3,\n",
       " 'no_of_special_requests': 1,\n",
       " 'booking_status': 0}"
      ]
     },
     "execution_count": 25,
     "metadata": {},
     "output_type": "execute_result"
    }
   ],
   "source": [
    "data"
   ]
  },
  {
   "cell_type": "code",
   "execution_count": 26,
   "id": "fb228242",
   "metadata": {},
   "outputs": [],
   "source": [
    "data = {'id': 17814,\n",
    " 'no_of_adults': 1,\n",
    " 'no_of_children': 0,\n",
    " 'no_of_weekend_nights': 0,\n",
    " 'no_of_week_nights': 3,\n",
    " 'type_of_meal_plan': 0,\n",
    " 'required_car_parking_space': 0,\n",
    " 'room_type_reserved': 0,\n",
    " 'lead_time': 151,\n",
    " 'arrival_year': 2018,\n",
    " 'arrival_month': 1,\n",
    " 'arrival_date': 19,\n",
    " 'market_segment_type': 0,\n",
    " 'repeated_guest': 0,\n",
    " 'no_of_previous_cancellations': 0,\n",
    " 'no_of_previous_bookings_not_canceled': 0,\n",
    " 'avg_price_per_room': 90.0,\n",
    " 'no_of_special_requests': 0}"
   ]
  },
  {
   "cell_type": "code",
   "execution_count": 27,
   "id": "fc7f79e0",
   "metadata": {},
   "outputs": [],
   "source": [
    "import requests"
   ]
  },
  {
   "cell_type": "code",
   "execution_count": 29,
   "id": "faa56e6c",
   "metadata": {},
   "outputs": [
    {
     "name": "stdout",
     "output_type": "stream",
     "text": [
      "Prediction: [0]\n"
     ]
    }
   ],
   "source": [
    "response = requests.post('http://127.0.0.1:8000/predict/', json=data)\n",
    "\n",
    "if response.status_code == 200:\n",
    "    prediction = response.json()['prediction']\n",
    "    print('Prediction:', prediction)\n",
    "else:\n",
    "    print('Failed to get prediction:', response.status_code)"
   ]
  },
  {
   "cell_type": "code",
   "execution_count": null,
   "id": "c2a41735",
   "metadata": {},
   "outputs": [],
   "source": []
  }
 ],
 "metadata": {
  "kernelspec": {
   "display_name": "Python [conda env:root] *",
   "language": "python",
   "name": "conda-root-py"
  },
  "language_info": {
   "codemirror_mode": {
    "name": "ipython",
    "version": 3
   },
   "file_extension": ".py",
   "mimetype": "text/x-python",
   "name": "python",
   "nbconvert_exporter": "python",
   "pygments_lexer": "ipython3",
   "version": "3.11.5"
  }
 },
 "nbformat": 4,
 "nbformat_minor": 5
}
